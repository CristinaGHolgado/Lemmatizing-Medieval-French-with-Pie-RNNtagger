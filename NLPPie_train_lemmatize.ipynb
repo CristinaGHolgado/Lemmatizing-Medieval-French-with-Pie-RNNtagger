{
  "nbformat": 4,
  "nbformat_minor": 0,
  "metadata": {
    "colab": {
      "name": "NLPPie.ipynb",
      "provenance": [],
      "collapsed_sections": [
        "OQUbqfVPrLdR",
        "DlJYfF8qrYGT",
        "bvcZO6EN_w8s",
        "anxtKYJtOHqx",
        "R_RFIPOzOO6y",
        "-qVNWVRROgtZ"
      ]
    },
    "kernelspec": {
      "name": "python3",
      "display_name": "Python 3"
    }
  },
  "cells": [
    {
      "cell_type": "markdown",
      "metadata": {
        "id": "CytkTAyqrBzD"
      },
      "source": [
        "# **A) Install NLPPie library**"
      ]
    },
    {
      "cell_type": "markdown",
      "metadata": {
        "id": "OQUbqfVPrLdR"
      },
      "source": [
        "###1.   Installation (v0.3.6)\n"
      ]
    },
    {
      "cell_type": "code",
      "metadata": {
        "colab": {
          "base_uri": "https://localhost:8080/"
        },
        "id": "_7h5rhhxh0NB",
        "outputId": "d1a104ab-91d8-4ed1-f5d2-1ab7f71030c1"
      },
      "source": [
        "pip install nlp-pie==0.3.6"
      ],
      "execution_count": null,
      "outputs": [
        {
          "output_type": "stream",
          "text": [
            "Collecting nlp-pie==0.3.6\n",
            "  Using cached https://files.pythonhosted.org/packages/74/6a/4f15285961d2859398e23eea4ca2e79f055f3468b4489d7ffa218bcf86b8/nlp_pie-0.3.6-py2.py3-none-any.whl\n",
            "Requirement already satisfied: termcolor>=1.1.0 in /usr/local/lib/python3.6/dist-packages (from nlp-pie==0.3.6) (1.1.0)\n",
            "Requirement already satisfied: tqdm>=4.23.3 in /usr/local/lib/python3.6/dist-packages (from nlp-pie==0.3.6) (4.41.1)\n",
            "Requirement already satisfied: torch<1.4.0,>=1.3.1 in /usr/local/lib/python3.6/dist-packages (from nlp-pie==0.3.6) (1.3.1)\n",
            "Requirement already satisfied: terminaltables==3.1.0 in /usr/local/lib/python3.6/dist-packages (from nlp-pie==0.3.6) (3.1.0)\n",
            "Requirement already satisfied: pyyaml==5.1b3 in /usr/local/lib/python3.6/dist-packages (from nlp-pie==0.3.6) (5.1b3)\n",
            "Requirement already satisfied: scikit-learn<0.23.0,>=0.19.1 in /usr/local/lib/python3.6/dist-packages (from nlp-pie==0.3.6) (0.22.2.post1)\n",
            "Requirement already satisfied: JSON-minify>=0.3.0 in /usr/local/lib/python3.6/dist-packages (from nlp-pie==0.3.6) (0.3.0)\n",
            "Requirement already satisfied: click<8.0,>=7.0 in /usr/local/lib/python3.6/dist-packages (from nlp-pie==0.3.6) (7.1.2)\n",
            "Requirement already satisfied: numpy<1.18.0,>=1.14.3 in /usr/local/lib/python3.6/dist-packages (from nlp-pie==0.3.6) (1.17.5)\n",
            "Requirement already satisfied: lxml>=4.2.1 in /usr/local/lib/python3.6/dist-packages (from nlp-pie==0.3.6) (4.2.6)\n",
            "Requirement already satisfied: gensim>=3.4.0 in /usr/local/lib/python3.6/dist-packages (from nlp-pie==0.3.6) (3.6.0)\n",
            "Requirement already satisfied: typing<4.0 in /usr/local/lib/python3.6/dist-packages (from nlp-pie==0.3.6) (3.7.4.3)\n",
            "Requirement already satisfied: scipy>=0.17.0 in /usr/local/lib/python3.6/dist-packages (from scikit-learn<0.23.0,>=0.19.1->nlp-pie==0.3.6) (1.4.1)\n",
            "Requirement already satisfied: joblib>=0.11 in /usr/local/lib/python3.6/dist-packages (from scikit-learn<0.23.0,>=0.19.1->nlp-pie==0.3.6) (1.0.0)\n",
            "Requirement already satisfied: smart-open>=1.2.1 in /usr/local/lib/python3.6/dist-packages (from gensim>=3.4.0->nlp-pie==0.3.6) (4.1.2)\n",
            "Requirement already satisfied: six>=1.5.0 in /usr/local/lib/python3.6/dist-packages (from gensim>=3.4.0->nlp-pie==0.3.6) (1.15.0)\n",
            "Installing collected packages: nlp-pie\n",
            "Successfully installed nlp-pie-0.3.6\n"
          ],
          "name": "stdout"
        }
      ]
    },
    {
      "cell_type": "markdown",
      "metadata": {
        "id": "DlJYfF8qrYGT"
      },
      "source": [
        "###2.   Set the path to **/Pie** folder (usually '/usr/local/lib/python3.6/dist-packages/pie' in GColab if using Python 3.*)"
      ]
    },
    {
      "cell_type": "code",
      "metadata": {
        "id": "31SvH5V5jV5Z"
      },
      "source": [
        "import os\n",
        "\n",
        "def set_path_Pie():\n",
        "  \"\"\" Set path to Pie folder for training or tagging\n",
        "  \"\"\"\n",
        "  if not str(os.getcwd()).endswith('/pie'):\n",
        "    os.chdir(pie_path)\n",
        "    print(f\"Path set to : {os.getcwd()}\")\n",
        "  else:\n",
        "    pass"
      ],
      "execution_count": null,
      "outputs": []
    },
    {
      "cell_type": "code",
      "metadata": {
        "id": "2XsH3chNlMmb"
      },
      "source": [
        "pie_path = '/usr/local/lib/python3.6/dist-packages/pie'\n",
        "set_path_Pie()"
      ],
      "execution_count": null,
      "outputs": []
    },
    {
      "cell_type": "markdown",
      "metadata": {
        "id": "bvcZO6EN_w8s"
      },
      "source": [
        "## **B) Training**"
      ]
    },
    {
      "cell_type": "code",
      "metadata": {
        "id": "aANZ8dt1kZEf"
      },
      "source": [
        "## MODIFIER LES PARAMETRES ET OPTIONS NECESSAIRES (*)\n",
        "\n",
        "defaultSettingsFile = \"default_settings.json\" # // name or path to the .json file training parameters *\n",
        "\n",
        "out_json = defaultSettingsFile.split(\".\")[0]+\"_\"+data_to_train+\".json\"\n",
        "\n",
        "data_to_train = 'pos' # // train pos (traning data column name) *\n",
        "modelname = \"oldfrench_model\" # // output model name *\n",
        "inputpath = \"token_tags_corpus.csv\" # // input trainig data path or filename *\n",
        "colnames = f'[\"token\", \"{data_to_train}\"]' # // column names in trainig data\n",
        "\n",
        "customized_train_params = True # // If True the folowing parameters will be used * :\n",
        "nb_epoch = 50 # *\n",
        "checks_per_epoch = 0  # *\n",
        "batch_size = 2  # *\n",
        "lower_opt = 'false' # lowercase target tokens *"
      ],
      "execution_count": null,
      "outputs": []
    },
    {
      "cell_type": "code",
      "metadata": {
        "id": "Fv2pOL80HP0S"
      },
      "source": [
        "import json\n",
        "import pandas as pd\n",
        "import re\n",
        "\n",
        "def setParams():\n",
        "  \"\"\"Définir les paramètres et les options dans 'default_settings.json'\n",
        "  \"\"\"\n",
        "  with open(defaultSettingsFile, \"r\") as inp, open(out_json, \"w\") as out:\n",
        "      for line in inp:\n",
        "        if '\"modelname\"' in line:\n",
        "          line = line.replace('\"model\"', f'\"{modelname}\"')\n",
        "          print(line)\n",
        "        if '\"input_path\"' in line:\n",
        "          line = line.replace('\"\"', f'\"{inputpath}\"')\n",
        "          print(line)\n",
        "        if '\"tasks_order\":' in line:\n",
        "          line = line.replace('[\"lemma\", \"pos\"]',f'{colnames}')\n",
        "          print(line)\n",
        "        if '\"name\": \"lemma\"' in line:\n",
        "          line = line.replace('\"lemma\"',f'\"{data_to_train}\"')\n",
        "          print(line)\n",
        "        \n",
        "        if customized_train_params == True:\n",
        "          if '\"epochs\"' in line:\n",
        "            line = re.sub('[0-9]*\\,', str(nb_epoch)+\",\", line)\n",
        "            print(line)\n",
        "          if '\"batch_size\"' in line:\n",
        "            line = re.sub('[0-9]*\\,', str(batch_size)+\",\", line)\n",
        "            print(line)\n",
        "          if '\"checks_per_epoch\"' in line:\n",
        "            line = re.sub('[0-9]*\\,', str(checks_per_epoch)+\",\", line)\n",
        "            print(line)\n",
        "          if '\"lower\"' in line:\n",
        "            line = line.replace('true',lower_opt)\n",
        "            print(line)\n",
        "\n",
        "        out.write(line)"
      ],
      "execution_count": null,
      "outputs": []
    },
    {
      "cell_type": "code",
      "metadata": {
        "id": "ZQ8FNTqhNkcV"
      },
      "source": [
        "#Apperçu des paramètres\n",
        "print(f\"Parameters : \\n{out_json}\")\n",
        "print()\n",
        "setParams()"
      ],
      "execution_count": null,
      "outputs": []
    },
    {
      "cell_type": "markdown",
      "metadata": {
        "id": "ahe4pH-Bkppb"
      },
      "source": [
        "*   **Run training & download model after training**\n",
        "\n"
      ]
    },
    {
      "cell_type": "code",
      "metadata": {
        "id": "xzHXlW2mZBBv"
      },
      "source": [
        "# Run after setting trainig parameters in the default settings json file & upload training data\n",
        "!pie train default_settings_pos.json"
      ],
      "execution_count": null,
      "outputs": []
    },
    {
      "cell_type": "code",
      "metadata": {
        "id": "S0WT2mTUsvTC"
      },
      "source": [
        "from google.colab import files\n",
        "import glob\n",
        "lastmodel = modelname+\"*.tar\"\n",
        "get_model = \"\".join(glob.glob(lastmodel)) # 1 model\n",
        "files.download(get_model) ## // telecharger automatiquement le modele sur l'ordinateur"
      ],
      "execution_count": null,
      "outputs": []
    },
    {
      "cell_type": "markdown",
      "metadata": {
        "id": "oZQ5jxfe_3m4"
      },
      "source": [
        "## **C) Tagging**"
      ]
    },
    {
      "cell_type": "markdown",
      "metadata": {
        "id": "anxtKYJtOHqx"
      },
      "source": [
        "###1. Log into your Drive to choose the files to be tagged"
      ]
    },
    {
      "cell_type": "code",
      "metadata": {
        "colab": {
          "base_uri": "https://localhost:8080/"
        },
        "id": "PRNDnXICT4bS",
        "outputId": "553119b3-7466-4c87-922b-d75e6d607a96"
      },
      "source": [
        "from google.colab import drive\n",
        "import os\n",
        "drive.mount('/content/gdrive')"
      ],
      "execution_count": null,
      "outputs": [
        {
          "output_type": "stream",
          "text": [
            "Mounted at /content/gdrive\n"
          ],
          "name": "stdout"
        }
      ]
    },
    {
      "cell_type": "markdown",
      "metadata": {
        "id": "R_RFIPOzOO6y"
      },
      "source": [
        "###2. Modify *models/tag_pipe.py* to skip tokenization"
      ]
    },
    {
      "cell_type": "code",
      "metadata": {
        "id": "wX-uWxPDb15g"
      },
      "source": [
        "def noTokenizing():\n",
        "  with open(\"scripts//tag_pipe.py\",\"r\") as py, open(\"scripts//tag_pipe2.py\",\"w\") as out_py:\n",
        "    f = py.readlines()\n",
        "    for l in f:\n",
        "      if \"line = line.split()\" in l:\n",
        "        l = l.replace(\"line = line.split()\", \"line = line.split()\\n            line = [' '.join(item for item in line)]\")\n",
        "      out_py.write(l)\n",
        "def checkPy():\n",
        "  with open(\"scripts//tag_pipe.py\",\"r\") as py:\n",
        "    f = py.readlines()\n",
        "    for l in f:\n",
        "      if \"line = [' '.join(item for item in line)])\" in l:\n",
        "        pass\n",
        "      else:\n",
        "        noTokenizing()"
      ],
      "execution_count": null,
      "outputs": []
    },
    {
      "cell_type": "markdown",
      "metadata": {
        "id": "93bmEAbEMBxv"
      },
      "source": [
        "*   **Le modifier de forme automatique**\n",
        "\n"
      ]
    },
    {
      "cell_type": "code",
      "metadata": {
        "id": "WBVMC7Kb2-iB"
      },
      "source": [
        "!mv \"scripts//tag_pipe.py\" \"scripts//tag_pipe_src.py\"\n",
        "!mv \"scripts//tag_pipe2.py\" \"scripts//tag_pipe.py\""
      ],
      "execution_count": null,
      "outputs": []
    },
    {
      "cell_type": "code",
      "metadata": {
        "id": "U2qDoTdKIU7z"
      },
      "source": [
        "noTokenizing()\n",
        "checkPy()"
      ],
      "execution_count": null,
      "outputs": []
    },
    {
      "cell_type": "markdown",
      "metadata": {
        "id": "ucT3h7k8KSFr"
      },
      "source": [
        "* **Où ajouter le code suivant après la ligne 24 dans *models/tag_pipe.py* :**\n",
        "\n",
        "`line = [' '.join(item for item in line)]`\n",
        "\n",
        "dans : \n",
        "```\n",
        "23        else:\n",
        "24            line = line.split()\n",
        "25            line = [' '.join(item for item in line)]\n",
        "```\n",
        "\n"
      ]
    },
    {
      "cell_type": "markdown",
      "metadata": {
        "id": "-qVNWVRROgtZ"
      },
      "source": [
        "###3. Tagging target files"
      ]
    },
    {
      "cell_type": "code",
      "metadata": {
        "id": "sX_OQePZO59W"
      },
      "source": [
        "### \n",
        "# Chemin vers les fichiers avec les tokens a etiqueter\n",
        "tokens_path = '/content/gdrive/My Drive/RNNTagger(tagger)/tsv_files/tokens/*tokens.csv' \n",
        "# Chemin/nom du modele a utiliser\n",
        "model = '10ep2bat.tar'"
      ],
      "execution_count": null,
      "outputs": []
    },
    {
      "cell_type": "markdown",
      "metadata": {
        "id": "H_VfBymmPzRz"
      },
      "source": [
        "* **Étiqueter plusieurs fichiers**\n",
        "\n"
      ]
    },
    {
      "cell_type": "code",
      "metadata": {
        "id": "NyMuC0JMU2Hz"
      },
      "source": [
        "import pandas as pd\n",
        "import subprocess\n",
        "import glob\n",
        "import csv\n",
        "import os, sys\n"
      ],
      "execution_count": null,
      "outputs": []
    },
    {
      "cell_type": "code",
      "metadata": {
        "id": "7MnFTxw-P0Sw"
      },
      "source": [
        "def run_tagging():\n",
        "  all_files = glob.glob(tokens_path)\n",
        "  print(f\"{len(all_files)} fichiers trouves.\")\n",
        "  nbFile = 0\n",
        "\n",
        "  for file in all_files:\n",
        "    print(file)\n",
        "    outputname = \"/content/gdrive/My Drive/tagged_corpus_nlppie/\" + file.split(\"/\")[-1].replace('tokens.csv','_tagged(nlppie_10ep2bat).csv')\n",
        "    command = \"cat '\" + file + \"' | \" + \"pie tag-pipe \" + f\"{model} > '\" + outputname + \"'\"\n",
        "    nbFile += 1\n",
        "    print(f\"Fichier no. : {nbFile}\")\n",
        "    !{command} "
      ],
      "execution_count": null,
      "outputs": []
    },
    {
      "cell_type": "markdown",
      "metadata": {
        "id": "j3sJexyuSDIv"
      },
      "source": [
        "* **Étiqueter un seul fichier**"
      ]
    },
    {
      "cell_type": "code",
      "metadata": {
        "id": "o26e-TLsSIlm"
      },
      "source": [
        "inputFile = 'tokens.csv' # // nom du fichier a etiqueter\n",
        "output_tagged = 'tokens_annotes.txt' # // nom du fichier en sortie"
      ],
      "execution_count": null,
      "outputs": []
    },
    {
      "cell_type": "code",
      "metadata": {
        "colab": {
          "base_uri": "https://localhost:8080/"
        },
        "id": "h95C4z1EC3R9",
        "outputId": "60431878-df78-4ff3-9f4b-9308c2a96d7f"
      },
      "source": [
        "%%shell\n",
        "cat {inputFile} | pie tag-pipe {model} > {output_tagged}"
      ],
      "execution_count": null,
      "outputs": [
        {
          "output_type": "stream",
          "text": [
            "fatal: not a git repository (or any of the parent directories): .git\n"
          ],
          "name": "stdout"
        },
        {
          "output_type": "execute_result",
          "data": {
            "text/plain": [
              ""
            ]
          },
          "metadata": {
            "tags": []
          },
          "execution_count": 23
        }
      ]
    }
  ]
}